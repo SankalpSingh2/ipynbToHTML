{
 "cells": [
  {
   "cell_type": "code",
   "execution_count": null,
   "id": "initial_id",
   "metadata": {
    "collapsed": true
   },
   "outputs": [],
   "source": [
    "# In a notebook cell\n",
    "import plotly.graph_objects as go\n",
    "import plotly.io as pio\n",
    "\n",
    "# Critical configuration for HTML conversion\n",
    "pio.renderers.default = 'plotly_mimetype'\n",
    "\n",
    "# Example interactive plot\n",
    "fig = go.Figure()\n",
    "fig.add_trace(go.Scatter(\n",
    "    x=[1, 2, 3], \n",
    "    y=[4, 1, 2],\n",
    "    mode='lines+markers'\n",
    "))\n",
    "\n",
    "fig.update_layout(\n",
    "    title='Interactive Demo',\n",
    "    updatemenus=[{\n",
    "        'buttons': [\n",
    "            {'method': 'restyle', 'label': 'Line', 'args': [{'mode': 'lines'}]},\n",
    "            {'method': 'restyle', 'label': 'Markers', 'args': [{'mode': 'markers'}]}\n",
    "        ],\n",
    "        'direction': 'down',\n",
    "        'showactive': True,\n",
    "    }]\n",
    ")\n",
    "\n",
    "fig.show()"
   ]
  }
 ],
 "metadata": {
  "kernelspec": {
   "display_name": "Python 3",
   "language": "python",
   "name": "python3"
  },
  "language_info": {
   "codemirror_mode": {
    "name": "ipython",
    "version": 2
   },
   "file_extension": ".py",
   "mimetype": "text/x-python",
   "name": "python",
   "nbconvert_exporter": "python",
   "pygments_lexer": "ipython2",
   "version": "2.7.6"
  }
 },
 "nbformat": 4,
 "nbformat_minor": 5
}
